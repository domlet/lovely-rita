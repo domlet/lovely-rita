{
 "cells": [
  {
   "cell_type": "code",
   "execution_count": 1,
   "metadata": {
    "collapsed": true
   },
   "outputs": [],
   "source": [
    "%matplotlib inline"
   ]
  },
  {
   "cell_type": "code",
   "execution_count": 2,
   "metadata": {
    "collapsed": true
   },
   "outputs": [],
   "source": [
    "import numpy as np\n",
    "import matplotlib.pyplot as plt\n",
    "from shapely.geometry import Point, Polygon\n",
    "import pandas as pd\n",
    "import geopandas as gpd\n",
    "import folium\n",
    "from lovelyrita.data import read_data, column_map\n",
    "from lovelyrita.clean import get_datetime, clean, impute_missing_times\n",
    "\n",
    "plt.style.use('seaborn')"
   ]
  },
  {
   "cell_type": "markdown",
   "metadata": {},
   "source": [
    "# Load neighborhood shapes"
   ]
  },
  {
   "cell_type": "code",
   "execution_count": 3,
   "metadata": {
    "collapsed": true
   },
   "outputs": [],
   "source": [
    "# neighborhoods = gpd.read_file(\"/data/lovely-rita/ZillowNeighborhoods/ZillowNeighborhoods-CA.shp\")\n",
    "# neighborhood = neighborhoods.loc[(neighborhoods.Name == 'Chinatown') &\n",
    "#                                  (neighborhoods.City == 'Oakland')]"
   ]
  },
  {
   "cell_type": "code",
   "execution_count": 4,
   "metadata": {
    "collapsed": true
   },
   "outputs": [],
   "source": [
    "# hand draw neighborhood boundary\n",
    "geometry = Polygon([[-122.272536, 37.802353],\n",
    "                    [-122.274339, 37.799497],\n",
    "                    [-122.269414, 37.797573],\n",
    "                    [-122.267536, 37.800388]])\n",
    "\n",
    "neighborhood = gpd.GeoDataFrame({'geometry': [geometry,],\n",
    "                                 'name': ['Chinatown',]}, crs={'init' :'epsg:4326'})"
   ]
  },
  {
   "cell_type": "markdown",
   "metadata": {},
   "source": [
    "# Load citations"
   ]
  },
  {
   "cell_type": "code",
   "execution_count": 5,
   "metadata": {
    "collapsed": true
   },
   "outputs": [],
   "source": [
    "data_paths = [\"/data/lovely-rita/new/2012complete-output.csv\",\n",
    "              \"/data/lovely-rita/new/2013complete-output.csv\",\n",
    "              \"/data/lovely-rita/new/2014complete-output.csv\",\n",
    "              \"/data/lovely-rita/new/2015complete-output.csv\",\n",
    "              \"/data/lovely-rita/new/2016complete-output-2.csv\"\n",
    "             ]"
   ]
  },
  {
   "cell_type": "code",
   "execution_count": 6,
   "metadata": {},
   "outputs": [
    {
     "name": "stdout",
     "output_type": "stream",
     "text": [
      "/data/lovely-rita/new/2012complete-output.csv\n"
     ]
    },
    {
     "name": "stderr",
     "output_type": "stream",
     "text": [
      "/projects/lovely-rita/lovelyrita/clean.py:48: SettingWithCopyWarning: \n",
      "A value is trying to be set on a copy of a slice from a DataFrame\n",
      "\n",
      "See the caveats in the documentation: http://pandas.pydata.org/pandas-docs/stable/indexing.html#indexing-view-versus-copy\n",
      "  datetimes[j] = interpolated_datetimes[i]\n"
     ]
    },
    {
     "name": "stdout",
     "output_type": "stream",
     "text": [
      "/data/lovely-rita/new/2013complete-output.csv\n",
      "/data/lovely-rita/new/2014complete-output.csv\n",
      "/data/lovely-rita/new/2015complete-output.csv\n",
      "/data/lovely-rita/new/2016complete-output-2.csv\n"
     ]
    }
   ],
   "source": [
    "column_map['[latitude]'] = 'latitude'\n",
    "column_map['[longitude]'] = 'longitude'\n",
    "\n",
    "citations = []\n",
    "for path in data_paths:\n",
    "    print(path)\n",
    "    cit = read_data(path, column_map=column_map)\n",
    "    cit = clean(cit)\n",
    "    citations.append(cit)"
   ]
  },
  {
   "cell_type": "code",
   "execution_count": 7,
   "metadata": {},
   "outputs": [],
   "source": [
    "citations = pd.concat(citations).reset_index(drop=True)\n",
    "\n",
    "citations.latitude = citations.latitude.astype('float32')\n",
    "citations.longitude = citations.longitude.astype('float32')\n",
    "\n",
    "citation_points = []\n",
    "for x, y in zip(citations.latitude, citations.longitude):\n",
    "    if not x == 0:\n",
    "        citation_points.append(Point(y, x))\n",
    "    else:\n",
    "        citation_points.append(None)\n",
    "\n",
    "citations['geometry'] = citation_points"
   ]
  },
  {
   "cell_type": "code",
   "execution_count": 8,
   "metadata": {},
   "outputs": [],
   "source": [
    "citations.drop(['latitude', 'longitude'], axis=1, inplace=True)\n"
   ]
  },
  {
   "cell_type": "code",
   "execution_count": null,
   "metadata": {},
   "outputs": [],
   "source": [
    "citations = citations.loc[~citations.geometry.isnull()]\n",
    "citations = gpd.GeoDataFrame(citations)"
   ]
  },
  {
   "cell_type": "markdown",
   "metadata": {},
   "source": [
    "# Select Chinatown citations"
   ]
  },
  {
   "cell_type": "code",
   "execution_count": null,
   "metadata": {
    "collapsed": true
   },
   "outputs": [],
   "source": [
    "neighb = neighborhood.geometry.iloc[0]\n",
    "\n",
    "selected_indices = [neighb.contains(c)\n",
    "                    for c in citations.geometry.values]\n",
    "\n",
    "selected_citations = citations.loc[selected_indices]"
   ]
  },
  {
   "cell_type": "code",
   "execution_count": null,
   "metadata": {},
   "outputs": [],
   "source": [
    "# show neighborhood boundary on map\n",
    "map = folium.Map([neighb.centroid.y, neighb.centroid.x], zoom_start=16)\n",
    "map.choropleth(neighborhood.to_crs({'init': 'epsg:4326'}).to_json(), fill_opacity=0.1, line_weight=3)\n",
    "map"
   ]
  },
  {
   "cell_type": "code",
   "execution_count": null,
   "metadata": {
    "collapsed": true
   },
   "outputs": [],
   "source": [
    "order = selected_citations.groupby('violation_desc_long').street.count().sort_values(ascending=False).index"
   ]
  },
  {
   "cell_type": "code",
   "execution_count": null,
   "metadata": {
    "scrolled": true
   },
   "outputs": [],
   "source": [
    "for year in [2012, 2013, 2014, 2015, 2016]:\n",
    "    year_citations = selected_citations.loc[selected_citations.ticket_issue_datetime.dt.year == year]\n",
    "    counts = year_citations.groupby('violation_desc_long').street.count()\n",
    "    counts = counts[order]\n",
    "\n",
    "    fig, ax = plt.subplots(figsize=(10, 6))\n",
    "    ax = counts.plot(kind='bar', title='Citations by type in Chinatown ({})'.format(year), ylim=[0, 900])\n",
    "    _ = ax.set_xlabel('Citation description')\n",
    "    _ = ax.set_ylabel('Number of citations')\n",
    "    fig.subplots_adjust(top=0.95, bottom=0.35)\n",
    "    fig.savefig('/data/lovely-rita/figures/chinatown_citations_{}.png'.format(year))\n",
    "    "
   ]
  },
  {
   "cell_type": "code",
   "execution_count": null,
   "metadata": {
    "collapsed": true
   },
   "outputs": [],
   "source": []
  }
 ],
 "metadata": {
  "kernelspec": {
   "display_name": "Python 3",
   "language": "python",
   "name": "python3"
  },
  "language_info": {
   "codemirror_mode": {
    "name": "ipython",
    "version": 3
   },
   "file_extension": ".py",
   "mimetype": "text/x-python",
   "name": "python",
   "nbconvert_exporter": "python",
   "pygments_lexer": "ipython3",
   "version": "3.5.2"
  }
 },
 "nbformat": 4,
 "nbformat_minor": 2
}
